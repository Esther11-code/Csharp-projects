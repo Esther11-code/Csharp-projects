{
  "nbformat": 4,
  "nbformat_minor": 0,
  "metadata": {
    "colab": {
      "provenance": [],
      "include_colab_link": true
    },
    "kernelspec": {
      "name": "python3",
      "display_name": "Python 3"
    },
    "language_info": {
      "name": "python"
    }
  },
  "cells": [
    {
      "cell_type": "markdown",
      "metadata": {
        "id": "view-in-github",
        "colab_type": "text"
      },
      "source": [
        "<a href=\"https://colab.research.google.com/github/Esther11-code/Csharp-projects/blob/main/Assignment_Day_02.ipynb\" target=\"_parent\"><img src=\"https://colab.research.google.com/assets/colab-badge.svg\" alt=\"Open In Colab\"/></a>"
      ]
    },
    {
      "cell_type": "markdown",
      "source": [
        "# Exercise 1: Student Exam Performance Analysis\n",
        "Sarah, a high school teacher, wants to analyze the grades of her students to identify trends and patterns. She decides to use NumPy to perform various computations on the grade data. Sarah is a dedicated teacher who wants to ensure the success of her students. She collects data on their test scores and attendance to gain insights into their academic performance. Using NumPy, she performs various computations and analyses to understand how her students are progressing. So help you as a Data Scientist help Sarah in following activities."
      ],
      "metadata": {
        "id": "c-dhoezsiKZ0"
      }
    },
    {
      "cell_type": "markdown",
      "source": [
        "Tasks:\n",
        "Create Grade Data: Sarah has a list of 10 students and their test scores (out of 100). So create a 1D array containing these scores.\n",
        "\n",
        "Analyze Test Scores: Sarah wants to analyze the test scores to understand how her students performed. So create a 2D array with 3 rows (representing three tests) and 10 columns (representing the students' scores).\n",
        "\n",
        "Reshape the Data: Reshape the 2D array into a 3D array to perform deeper analysis.\n",
        "\n",
        "Calculate Average Scores: Calculates the average score for each test to understand the overall performance of her students.\n",
        "\n",
        "Generate Attendance Data: Sarah also wants to track student attendance. So generate a 1D array containing 10 randomly generated attendance percentages for each student."
      ],
      "metadata": {
        "id": "_VapFvftiOpS"
      }
    },
    {
      "cell_type": "code",
      "source": [
        "import numpy as np\n",
        "\n",
        "\"\"\"Grade Data\"\"\"\n",
        "test_scores_1D = np.array([85, 90, 75, 60, 92, 78, 88, 70, 95, 83])\n",
        "\n",
        "\"\"\"Analyze Test Scores\"\"\"\n",
        "test_scores_2D = np.array([\n",
        "    [85, 90, 75, 60, 92, 78, 88, 70, 95, 83],  # first test\n",
        "    [78, 85, 80, 65, 90, 75, 85, 68, 92, 80],  # second test\n",
        "    [82, 88, 72, 58, 94, 80, 90, 72, 96, 85]   # third test\n",
        "])\n",
        "\n",
        "\"\"\"reshape the data\"\"\"\n",
        "test_scores_3D = test_scores_2D.reshape(3, 5, 2)\n",
        "\n",
        "\"\"\"calculate average scores\"\"\"\n",
        "average_scores = np.mean(test_scores_2D, axis=1)\n",
        "\n",
        "\"\"\"attendance data\"\"\"\n",
        "attendance_percentages = np.random.randint(50, 100, 10)\n",
        "\n",
        "# Print the results\n",
        "print(\"Grade Data (1D array):\\n\", test_scores_1D)\n",
        "print(\"\\nTest Scores (2D array):\\n\", test_scores_2D)\n",
        "print(\"\\nReshaped Test Scores (3D array):\\n\", test_scores_3D)\n",
        "print(\"\\nAverage Scores (1D array):\\n\", average_scores)\n",
        "print(\"\\nAttendance Data (1D array):\\n\", attendance_percentages)\n"
      ],
      "metadata": {
        "id": "0VC31qM07GUj",
        "colab": {
          "base_uri": "https://localhost:8080/"
        },
        "outputId": "362a039f-863e-4f97-a343-39e20c77b671"
      },
      "execution_count": 9,
      "outputs": [
        {
          "output_type": "stream",
          "name": "stdout",
          "text": [
            "Grade Data (1D array):\n",
            " [85 90 75 60 92 78 88 70 95 83]\n",
            "\n",
            "Test Scores (2D array):\n",
            " [[85 90 75 60 92 78 88 70 95 83]\n",
            " [78 85 80 65 90 75 85 68 92 80]\n",
            " [82 88 72 58 94 80 90 72 96 85]]\n",
            "\n",
            "Reshaped Test Scores (3D array):\n",
            " [[[85 90]\n",
            "  [75 60]\n",
            "  [92 78]\n",
            "  [88 70]\n",
            "  [95 83]]\n",
            "\n",
            " [[78 85]\n",
            "  [80 65]\n",
            "  [90 75]\n",
            "  [85 68]\n",
            "  [92 80]]\n",
            "\n",
            " [[82 88]\n",
            "  [72 58]\n",
            "  [94 80]\n",
            "  [90 72]\n",
            "  [96 85]]]\n",
            "\n",
            "Average Scores (1D array):\n",
            " [81.6 79.8 81.7]\n",
            "\n",
            "Attendance Data (1D array):\n",
            " [66 90 85 73 65 89 97 93 76 89]\n"
          ]
        }
      ]
    },
    {
      "cell_type": "markdown",
      "source": [
        "![Alt Text](https://drive.google.com/uc?export=download&id=1uXQGh4JIGmX9Q0zoBCayh-AkR1f3lKxx)"
      ],
      "metadata": {
        "id": "swDq05ELiTyd"
      }
    },
    {
      "cell_type": "code",
      "source": [],
      "metadata": {
        "id": "NC8GrvqX6iby"
      },
      "execution_count": null,
      "outputs": []
    },
    {
      "cell_type": "markdown",
      "source": [
        "# Exercise: Analyzing Workout Metrics with NumPy\n",
        "\n",
        "You're embarking on a fitness journey and have started tracking your daily workout metrics using a mobile app. You've recorded the number of push-ups, sit-ups, and squats you do each day for the past week.\n",
        "\n",
        "Task:\n",
        "\n",
        "Data Loading:Create NumPy arrays to store the following daily workout metrics for the past week:\n",
        "\n",
        ">1. Number of push-ups\n",
        ">2. Number of sit-ups\n",
        ">3. Number of squats\n",
        "\n",
        "Data Analysis:Calculate the total number of push-ups, sit-ups, and squats performed over the past week.\n",
        "Compute the average number of push-ups, sit-ups, and squats per day.\n",
        "Determine the day with the highest and lowest number of push-ups, sit-ups, and squats.\n",
        "\n",
        "Statistical Analysis: Find the median and standard deviation of each exercise to understand the central tendency and variability.\n",
        "Determine the quartiles to identify the spread of data distribution.\n",
        "Data Interpretation:\n",
        "\n",
        "Reflect on your workout performance and identify areas for improvement.\n",
        "Set specific goals for increasing the number of repetitions for each exercise based on the analysis.\n"
      ],
      "metadata": {
        "id": "RrY8mJebiZc6"
      }
    },
    {
      "cell_type": "markdown",
      "source": [
        "# Sample dataset\n",
        "\n",
        "You can use these arrays to perform various analyses and computations on the workout data. Feel free to customize the values or add more workout metrics as needed for your exercise.\n"
      ],
      "metadata": {
        "id": "nssLwXHSif4A"
      }
    },
    {
      "cell_type": "code",
      "source": [
        "import numpy as np\n",
        "#Create NumPy arrays for workout metrics\n",
        "pushups = np.array([20, 25, 30, 15, 20, 18, 22]) # Number of push-ups each day\n",
        "situps = np.array([30, 35, 40, 25, 30, 28, 32]) # Number of sit-ups each day\n",
        "squats = np.array([25, 20, 30, 20, 25, 23, 28]) # Number of squats each day"
      ],
      "metadata": {
        "id": "f_z6Pj82iZ80"
      },
      "execution_count": null,
      "outputs": []
    }
  ]
}