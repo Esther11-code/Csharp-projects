{
  "nbformat": 4,
  "nbformat_minor": 0,
  "metadata": {
    "colab": {
      "provenance": [],
      "include_colab_link": true
    },
    "kernelspec": {
      "name": "python3",
      "display_name": "Python 3"
    },
    "language_info": {
      "name": "python"
    }
  },
  "cells": [
    {
      "cell_type": "markdown",
      "metadata": {
        "id": "view-in-github",
        "colab_type": "text"
      },
      "source": [
        "<a href=\"https://colab.research.google.com/github/Esther11-code/Csharp-projects/blob/main/assignment1.ipynb\" target=\"_parent\"><img src=\"https://colab.research.google.com/assets/colab-badge.svg\" alt=\"Open In Colab\"/></a>"
      ]
    },
    {
      "cell_type": "code",
      "execution_count": null,
      "metadata": {
        "colab": {
          "base_uri": "https://localhost:8080/"
        },
        "id": "ZW_G7M3Qw72g",
        "outputId": "c0aecef7-20c3-4879-ee76-7b66faf4e6be"
      },
      "outputs": [
        {
          "output_type": "stream",
          "name": "stdout",
          "text": [
            "800\n"
          ]
        }
      ],
      "source": [
        "cost_of_flight = 5000\n",
        "number_of_passengers = 29\n",
        "charge_per_person = 200\n",
        "total_charge = charge_per_person * number_of_passengers\n",
        "profit = total_charge - cost_of_flight\n",
        "print(profit)"
      ]
    },
    {
      "cell_type": "code",
      "source": [
        "def total_number(wins: int, draws: int, losses: int) -> int:\n",
        "  \"\"\"\n",
        "  This return the total point earned by a particular team.\n",
        "  \"\"\"\n",
        "  win_point =  wins * 3\n",
        "  draw_point = draws * 1\n",
        "  loss_point = losses * 0\n",
        "  total_point = win_point + draw_point + loss_point\n",
        "  return total_point\n",
        "\n",
        "london_team = total_number(wins=6, losses=2, draws=1)\n",
        "print(london_team)"
      ],
      "metadata": {
        "colab": {
          "base_uri": "https://localhost:8080/"
        },
        "id": "glEXhou9ymqH",
        "outputId": "e8ff3e0d-79a9-4c18-fc60-d6693c589a1e"
      },
      "execution_count": null,
      "outputs": [
        {
          "output_type": "stream",
          "name": "stdout",
          "text": [
            "19\n"
          ]
        }
      ]
    }
  ]
}